{
 "cells": [
  {
   "cell_type": "code",
   "execution_count": 3,
   "id": "46846ee3",
   "metadata": {},
   "outputs": [],
   "source": [
    "import os\n",
    "import glob\n",
    "import requests\n",
    "from urllib.parse import quote\n",
    "from typing import List, Tuple, Iterable, Dict, Optional"
   ]
  },
  {
   "cell_type": "markdown",
   "id": "dd667879",
   "metadata": {},
   "source": [
    "Pathway libraries (gene sets) were downloaded from https://maayanlab.cloud/Enrichr/#libraries and exported as .tsv with header: MEMBER_OF\tgene\tpathway\tsource. The `pathway` column contains only the term (no source), while `source` holds the filename base (e.g., Reactome_Pathways_2024)."
   ]
  },
  {
   "cell_type": "code",
   "execution_count": 4,
   "id": "6c52a213",
   "metadata": {},
   "outputs": [],
   "source": [
    "def iter_memberof_triples_from_gmt_text(gmt_text: str, library_name: str, namespace: bool = True) -> Iterable[Tuple[str, str, str]]:\n",
    "    for line in gmt_text.splitlines():\n",
    "        if not line or line.startswith(\"#\"):\n",
    "            continue\n",
    "        parts = line.rstrip(\"\\n\").split(\"\\t\")\n",
    "        if len(parts) < 3:\n",
    "            continue\n",
    "        term = parts[0].strip()\n",
    "        genes = [g.strip() for g in parts[2:] if g.strip()]\n",
    "        if not genes:\n",
    "            continue\n",
    "        pathway = f\"{library_name}:{term}\" if namespace else term\n",
    "        for gene in genes:\n",
    "            yield (\"MEMBER_OF\", gene, pathway)\n",
    "\n",
    "\n",
    "def parse_gmt_file_to_triples(file_path: str, library_name: Optional[str] = None, namespace: bool = True) -> Iterable[Tuple[str, str, str]]:\n",
    "    if library_name is None:\n",
    "        base = os.path.basename(file_path)\n",
    "        library_name = os.path.splitext(base)[0]\n",
    "    with open(file_path, \"r\", encoding=\"utf-8\", errors=\"ignore\") as f:\n",
    "        text = f.read()\n",
    "    return iter_memberof_triples_from_gmt_text(text, library_name, namespace=namespace)\n",
    "\n",
    "\n",
    "def build_memberof_triples_from_folder(\n",
    "    input_dir: str,\n",
    "    output_tsv_path: str,\n",
    "    patterns: Optional[List[str]] = None,\n",
    "    namespace_pathways: bool = False,\n",
    ") -> Dict[str, int]:\n",
    "    if patterns is None:\n",
    "        patterns = [\"*.gmt\", \"*.txt\"]\n",
    "    os.makedirs(os.path.dirname(output_tsv_path) or \".\", exist_ok=True)\n",
    "    files: List[str] = []\n",
    "    for pat in patterns:\n",
    "        files.extend(sorted(glob.glob(os.path.join(input_dir, pat))))\n",
    "    seen = set()\n",
    "    triples_written = 0\n",
    "    files_processed = 0\n",
    "    with open(output_tsv_path, \"w\", encoding=\"utf-8\") as out:\n",
    "        out.write(\"MEMBER_OF\\tgene\\tpathway\\tsource\\n\")\n",
    "        for fp in files:\n",
    "            wrote_any = False\n",
    "            source_name = os.path.splitext(os.path.basename(fp))[0]\n",
    "            for triple in parse_gmt_file_to_triples(fp, library_name=None, namespace=namespace_pathways):\n",
    "                row = (triple[0], triple[1], triple[2], source_name)\n",
    "                if row in seen:\n",
    "                    continue\n",
    "                seen.add(row)\n",
    "                out.write(\"\\t\".join(row) + \"\\n\")\n",
    "                triples_written += 1\n",
    "                wrote_any = True\n",
    "            if wrote_any:\n",
    "                files_processed += 1\n",
    "    return {\"files_processed\": files_processed, \"rows\": triples_written, \"unique_rows\": len(seen)}\n"
   ]
  },
  {
   "cell_type": "code",
   "execution_count": 5,
   "id": "81009ec1",
   "metadata": {},
   "outputs": [
    {
     "name": "stdout",
     "output_type": "stream",
     "text": [
      "{'wrote': {'files_processed': 5, 'rows': 403582, 'unique_rows': 403582}, 'output': '/Users/polina/Variant_Drug_KG/scr/pathways/output/pathways_triples.tsv'}\n"
     ]
    }
   ],
   "source": [
    "INPUT_DIR = \"/Users/polina/Variant_Drug_KG/scr/pathways/pathway_libs\" \n",
    "OUTPUT_PATH = \"/Users/polina/Variant_Drug_KG/scr/pathways/output/pathways_triples.tsv\" \n",
    "\n",
    "stats = build_memberof_triples_from_folder(\n",
    "    input_dir=INPUT_DIR,\n",
    "    output_tsv_path=OUTPUT_PATH,\n",
    "    patterns=[\"*.gmt\", \"*.txt\"],\n",
    "    namespace_pathways=False,\n",
    ")\n",
    "print({\"wrote\": stats, \"output\": OUTPUT_PATH})\n"
   ]
  }
 ],
 "metadata": {
  "kernelspec": {
   "display_name": "Python 3",
   "language": "python",
   "name": "python3"
  },
  "language_info": {
   "codemirror_mode": {
    "name": "ipython",
    "version": 3
   },
   "file_extension": ".py",
   "mimetype": "text/x-python",
   "name": "python",
   "nbconvert_exporter": "python",
   "pygments_lexer": "ipython3",
   "version": "3.11.6"
  }
 },
 "nbformat": 4,
 "nbformat_minor": 5
}
